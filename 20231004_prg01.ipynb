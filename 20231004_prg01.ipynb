{
 "cells": [
  {
   "cell_type": "code",
   "execution_count": 7,
   "id": "bed6e6fe",
   "metadata": {},
   "outputs": [
    {
     "name": "stdout",
     "output_type": "stream",
     "text": [
      "請輸入一整數：5\n",
      "1到5的總合為：15\n"
     ]
    }
   ],
   "source": [
    "sum = 0\n",
    "n = int(input(\"請輸入一整數：\"))\n",
    "for i in range(1,n+1):\n",
    "    sum=(1+n)*n/2\n",
    "print(\"1到%d的總合為：%d\" %(i,sum))"
   ]
  }
 ],
 "metadata": {
  "kernelspec": {
   "display_name": "Python 3 (ipykernel)",
   "language": "python",
   "name": "python3"
  },
  "language_info": {
   "codemirror_mode": {
    "name": "ipython",
    "version": 3
   },
   "file_extension": ".py",
   "mimetype": "text/x-python",
   "name": "python",
   "nbconvert_exporter": "python",
   "pygments_lexer": "ipython3",
   "version": "3.11.5"
  }
 },
 "nbformat": 4,
 "nbformat_minor": 5
}
